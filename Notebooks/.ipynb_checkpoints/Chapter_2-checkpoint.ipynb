{
 "cells": [
  {
   "cell_type": "markdown",
   "metadata": {},
   "source": [
    "# Listing 2-1. Import TensorFlow and numpy Library and check if EagerExecution is True"
   ]
  },
  {
   "cell_type": "code",
   "execution_count": 2,
   "metadata": {},
   "outputs": [
    {
     "name": "stdout",
     "output_type": "stream",
     "text": [
      "Python version: 3.9.5\n",
      "Tensorflow version: 2.9.1\n"
     ]
    },
    {
     "data": {
      "text/plain": [
       "True"
      ]
     },
     "execution_count": 2,
     "metadata": {},
     "output_type": "execute_result"
    }
   ],
   "source": [
    "from platform import python_version\n",
    "import tensorflow as tf\n",
    "import numpy as np\n",
    "import os\n",
    "import warnings\n",
    "warnings.filterwarnings('ignore')\n",
    "print(f\"Python version: {python_version()}\")\n",
    "print(f\"Tensorflow version: {tf.__version__}\")\n",
    "os.environ['TF_CPP_MIN_LOG_LEVE L'] = '3'\n",
    "tf.executing_eagerly()\n"
   ]
  },
  {
   "cell_type": "markdown",
   "metadata": {},
   "source": [
    "\n",
    "\n",
    "# Listing 2-2. Defining Zeros and Ones Tensors "
   ]
  },
  {
   "cell_type": "code",
   "execution_count": 8,
   "metadata": {},
   "outputs": [
    {
     "name": "stdout",
     "output_type": "stream",
     "text": [
      "a tf.Tensor(\n",
      "[[0. 0.]\n",
      " [0. 0.]], shape=(2, 2), dtype=float32)\n",
      "b tf.Tensor(\n",
      "[[1. 1.]\n",
      " [1. 1.]], shape=(2, 2), dtype=float32)\n"
     ]
    }
   ],
   "source": [
    "# With eager execution we will be able to see the values of the tensor\n",
    "a = tf.zeros((2,2))\n",
    "print('a',a)\n",
    "b = tf.ones((2,2))\n",
    "print('b',b)"
   ]
  },
  {
   "cell_type": "markdown",
   "metadata": {},
   "source": [
    "# Listing 2-3. Sum the elements of the matrix (2D Tensor) across the horizontal axis "
   ]
  },
  {
   "cell_type": "code",
   "execution_count": 9,
   "metadata": {},
   "outputs": [
    {
     "name": "stdout",
     "output_type": "stream",
     "text": [
      "tf.Tensor([2. 2.], shape=(2,), dtype=float32)\n"
     ]
    }
   ],
   "source": [
    "out = tf.math.reduce_sum(b,axis=1)\n",
    "print(out)"
   ]
  },
  {
   "cell_type": "markdown",
   "metadata": {},
   "source": [
    "# Listing 2-4. Check the shape of the Tensor"
   ]
  },
  {
   "cell_type": "code",
   "execution_count": 10,
   "metadata": {},
   "outputs": [
    {
     "data": {
      "text/plain": [
       "TensorShape([2, 2])"
      ]
     },
     "execution_count": 10,
     "metadata": {},
     "output_type": "execute_result"
    }
   ],
   "source": [
    "a.get_shape()"
   ]
  },
  {
   "cell_type": "markdown",
   "metadata": {},
   "source": [
    "# Listing 2-5. Reshaping a Tensor  "
   ]
  },
  {
   "cell_type": "code",
   "execution_count": 11,
   "metadata": {},
   "outputs": [
    {
     "name": "stdout",
     "output_type": "stream",
     "text": [
      "tf.Tensor([[0. 0. 0. 0.]], shape=(1, 4), dtype=float32)\n"
     ]
    }
   ],
   "source": [
    "a_ = tf.reshape(a,(1,4))\n",
    "print(a_)"
   ]
  },
  {
   "cell_type": "markdown",
   "metadata": {},
   "source": [
    "# Listing 2-6. Converting a Tensor to Numpy"
   ]
  },
  {
   "cell_type": "code",
   "execution_count": 12,
   "metadata": {},
   "outputs": [
    {
     "name": "stdout",
     "output_type": "stream",
     "text": [
      "[[0. 0.]\n",
      " [0. 0.]]\n"
     ]
    }
   ],
   "source": [
    "ta = a.numpy()\n",
    "print(ta) "
   ]
  },
  {
   "cell_type": "markdown",
   "metadata": {},
   "source": [
    "# Listing 2-7.Defining TensorFlow Constants"
   ]
  },
  {
   "cell_type": "code",
   "execution_count": 13,
   "metadata": {},
   "outputs": [
    {
     "name": "stdout",
     "output_type": "stream",
     "text": [
      "tf.Tensor(10, shape=(), dtype=int32)\n"
     ]
    }
   ],
   "source": [
    "# Tensorflow constants are immutable \n",
    "a = tf.constant(2)\n",
    "b = tf.constant(5)\n",
    "c= a*b \n",
    "print(c)"
   ]
  },
  {
   "cell_type": "markdown",
   "metadata": {},
   "source": [
    "# Listing 2-8 Illustration of difference between Eager Execution and Graph based execution"
   ]
  },
  {
   "cell_type": "code",
   "execution_count": 14,
   "metadata": {},
   "outputs": [
    {
     "name": "stdout",
     "output_type": "stream",
     "text": [
      "Eager execution: tf.Tensor([10], shape=(1,), dtype=int32)\n",
      "Graph execution: tf.Tensor([10], shape=(1,), dtype=int32)\n"
     ]
    }
   ],
   "source": [
    "import timeit\n",
    "# Eager function\n",
    "def func_eager(a,b):\n",
    "    return a*b\n",
    "# Graph function using tf.function on eager func\n",
    "@tf.function\n",
    "def graph_func(a,b):\n",
    "    return a*b\n",
    "\n",
    "a = tf.constant([2])\n",
    "b = tf.constant([5])\n",
    "\n",
    "# Eager execution\n",
    "print(\"Eager execution:\",func_eager(a,b))\n",
    "# Function with graph execution  \n",
    "print(\"Graph execution:\",graph_func(a,b))"
   ]
  },
  {
   "cell_type": "markdown",
   "metadata": {},
   "source": [
    "# Listing 2-9 Execution time comparison of Eager Execution vs Graph Execution in Simple Operation"
   ]
  },
  {
   "cell_type": "code",
   "execution_count": 15,
   "metadata": {},
   "outputs": [
    {
     "name": "stdout",
     "output_type": "stream",
     "text": [
      "Eager execution: 0.0026365599915152416\n",
      "Graph execution: 0.0544749020045856\n",
      "For simple operations Graph execution takes more time..\n"
     ]
    }
   ],
   "source": [
    "import timeit\n",
    "# Eager function\n",
    "def func_eager(a,b):\n",
    "    return a*b\n",
    "# Graph function using tf.function on eager func\n",
    "@tf.function\n",
    "def graph_func(a,b):\n",
    "    return a*b\n",
    "\n",
    "a = tf.constant([2])\n",
    "b = tf.constant([5])\n",
    "\n",
    "# Eager execution\n",
    "print(\"Eager execution:\",timeit.timeit(lambda:func_eager(a,b),number=100))\n",
    "# Function with graph execution  \n",
    "print(\"Graph execution:\",timeit.timeit(lambda: graph_func(a,b),number=100))\n",
    "print(\"For simple operations Graph execution takes more time..\")"
   ]
  },
  {
   "cell_type": "markdown",
   "metadata": {},
   "source": [
    "# Listing 2-10 Execution time comparison of Eager Execution vs Graph Execution in a model inference"
   ]
  },
  {
   "cell_type": "code",
   "execution_count": 16,
   "metadata": {},
   "outputs": [
    {
     "name": "stdout",
     "output_type": "stream",
     "text": [
      "Eager time: 46.46772461201181\n",
      "Graph time: 23.970114473006106\n"
     ]
    }
   ],
   "source": [
    "from tensorflow.keras import Input, Model\n",
    "from tensorflow.keras.layers import Flatten, Dense\n",
    "\n",
    "# Define the model (Inspired by mnist inputs)\n",
    "model = tf.keras.Sequential()\n",
    "model.add(tf.keras.Input(shape=(28,28,)))\n",
    "model.add(Flatten())\n",
    "model.add(Dense(256,\"relu\"))\n",
    "model.add(Dense(128,\"relu\"))\n",
    "model.add(Dense(256,\"relu\"))\n",
    "model.add(Dense(10,\"softmax\"))\n",
    "# Dummy data with MNIST image sizes \n",
    "X = tf.random.uniform([1000, 28, 28])\n",
    "\n",
    "\n",
    "# Eager Execution to do inference (Model untrained as we are evauating speed of inference)\n",
    "eager_model = model\n",
    "print(\"Eager time:\", timeit.timeit(lambda: eager_model(X,training=False), number=10000))\n",
    "\n",
    "#Graph Execution to do inference (Model untrained as we are evauating speed of inference)\n",
    "graph_model = tf.function(eager_model) # Wrap the model with tf.function \n",
    "print(\"Graph time:\", timeit.timeit(lambda: graph_model(X,training=False), number=10000))"
   ]
  },
  {
   "cell_type": "markdown",
   "metadata": {},
   "source": [
    "# Listing 2-11. Defining TensorFlow variables \n"
   ]
  },
  {
   "cell_type": "code",
   "execution_count": 17,
   "metadata": {},
   "outputs": [
    {
     "name": "stdout",
     "output_type": "stream",
     "text": [
      "Intial value of Variable w = [ 5. 10.]\n",
      "New assigned value of Variable w = [2. 2.]\n"
     ]
    }
   ],
   "source": [
    "w = tf.Variable([5.,10])\n",
    "\n",
    "print('Intial value of Variable w =', w.numpy())\n",
    "w.assign([2.,2.])\n",
    "print('New assigned value of Variable w =', w.numpy())"
   ]
  },
  {
   "cell_type": "markdown",
   "metadata": {},
   "source": [
    "# Listing 2-12.Converting a Numpy array to Tensor"
   ]
  },
  {
   "cell_type": "code",
   "execution_count": 18,
   "metadata": {},
   "outputs": [
    {
     "name": "stdout",
     "output_type": "stream",
     "text": [
      "tf.Tensor(\n",
      "[[-0.78527151 -0.24655196 -1.46398214]\n",
      " [ 0.52133169  1.32163985  0.14126499]\n",
      " [ 0.67573942  0.37336583  0.73968285]\n",
      " [ 0.5907797   0.03879883 -0.28792242]\n",
      " [-3.00804685  0.69147973  1.11958851]], shape=(5, 3), dtype=float64)\n"
     ]
    }
   ],
   "source": [
    "nt = np.random.randn(5,3)\n",
    "nt_tensor = tf.convert_to_tensor(nt)\n",
    "print(nt_tensor)"
   ]
  },
  {
   "cell_type": "markdown",
   "metadata": {},
   "source": [
    "# Listing 2-13. Computing Gradient "
   ]
  },
  {
   "cell_type": "code",
   "execution_count": 19,
   "metadata": {},
   "outputs": [
    {
     "name": "stdout",
     "output_type": "stream",
     "text": [
      "12.0\n"
     ]
    }
   ],
   "source": [
    "#Tensorflow needs to remember the order of operation in forward pass so that during the backward pass \n",
    "#(backpropagation) TensorFlow can traverse the list of operations in reverse order to compute gradients\n",
    "#tf.GradientTape is precisely the method that provides a way of recording relevant operations executed within its scope so that the information \n",
    "#can be used to compute the gradient  \n",
    "x = tf.Variable(2.0)\n",
    "\n",
    "with tf.GradientTape() as tape:\n",
    "    y = x**3\n",
    "\n",
    "dy_dx = tape.gradient(y,x) # Compute gradient of y wrt to x at x =2. \n",
    "\n",
    "print(dy_dx.numpy()) # dy/dx = ( 3(x^2) at x = 2 ) == 3*(2^2) = 12.0"
   ]
  },
  {
   "cell_type": "markdown",
   "metadata": {},
   "source": [
    "# Listing 2-14 Gradient with respect to Model "
   ]
  },
  {
   "cell_type": "code",
   "execution_count": 20,
   "metadata": {},
   "outputs": [
    {
     "name": "stdout",
     "output_type": "stream",
     "text": [
      "Model: \"sequential_1\"\n",
      "_________________________________________________________________\n",
      " Layer (type)                Output Shape              Param #   \n",
      "=================================================================\n",
      " dense_4 (Dense)             (None, 5)                 15        \n",
      "                                                                 \n",
      " dense_5 (Dense)             (None, 1)                 6         \n",
      "                                                                 \n",
      "=================================================================\n",
      "Total params: 21\n",
      "Trainable params: 21\n",
      "Non-trainable params: 0\n",
      "_________________________________________________________________\n",
      "None\n",
      "dense_4/kernel:0, shape: (2, 5)\n",
      "dense_4/bias:0, shape: (5,)\n",
      "dense_5/kernel:0, shape: (5, 1)\n",
      "dense_5/bias:0, shape: (1,)\n"
     ]
    }
   ],
   "source": [
    "from tensorflow.keras import Input, Model\n",
    "from tensorflow.keras.layers import Flatten, Dense\n",
    "\n",
    "# Define the model \n",
    "model = tf.keras.Sequential()\n",
    "model.add(tf.keras.Input(shape=(2,)))\n",
    "model.add(Dense(5,'relu'))\n",
    "model.add(Dense(1))\n",
    "print(model.summary())\n",
    "\n",
    "X = tf.constant([[2,2],[1,1]])\n",
    "y = tf.constant([3.4,4.7])\n",
    "with tf.GradientTape() as tape:\n",
    "    # Forward pass \n",
    "    y_hat = model(X,training=True)\n",
    "    loss = tf.reduce_mean((y- y_hat)**2) # Made up loss \n",
    "\n",
    "grad_ = tape.gradient(loss,model.trainable_variables)\n",
    "\n",
    "# Print the gradient tensors shape in each layer\n",
    "for var, g in zip(model.trainable_variables, grad_):\n",
    "  print(f'{var.name}, shape: {g.shape}')\n",
    "    \n",
    "    \n",
    "\n"
   ]
  },
  {
   "cell_type": "markdown",
   "metadata": {},
   "source": [
    "# Listing 2-15 . XOR implementation with Hidden layers having sigmoid activation functions."
   ]
  },
  {
   "cell_type": "code",
   "execution_count": 5,
   "metadata": {},
   "outputs": [
    {
     "name": "stdout",
     "output_type": "stream",
     "text": [
      "tensorflow version 2.9.1\n",
      "The tensorboard extension is already loaded. To reload it, use:\n",
      "  %reload_ext tensorboard\n",
      "Epoch: 0, loss: 0.707137942314148\n",
      "Final Prediction [[0.568074  ]\n",
      " [0.6039111 ]\n",
      " [0.55183685]\n",
      " [0.5892746 ]]\n"
     ]
    },
    {
     "name": "stderr",
     "output_type": "stream",
     "text": [
      "2022-12-23 22:28:26.929898: I tensorflow/core/profiler/lib/profiler_session.cc:99] Profiler session initializing.\n",
      "2022-12-23 22:28:26.929937: I tensorflow/core/profiler/lib/profiler_session.cc:114] Profiler session started.\n",
      "2022-12-23 22:28:26.990636: I tensorflow/core/profiler/lib/profiler_session.cc:66] Profiler session collecting data.\n",
      "2022-12-23 22:28:26.990753: I tensorflow/core/profiler/internal/gpu/cupti_tracer.cc:1799] CUPTI activity buffer flushed\n",
      "2022-12-23 22:28:27.092809: I tensorflow/core/profiler/internal/gpu/cupti_collector.cc:521]  GpuTracer has collected 0 callback api events and 0 activity events. \n",
      "2022-12-23 22:28:27.096417: I tensorflow/core/profiler/lib/profiler_session.cc:126] Profiler session tear down.\n"
     ]
    }
   ],
   "source": [
    "import tensorflow as tf\n",
    "import numpy as np\n",
    "from tensorflow.keras import Model, layers\n",
    "print( 'tensorflow version',tf.__version__ )\n",
    "from datetime import datetime\n",
    "%load_ext tensorboard\n",
    "import tensorboard\n",
    "\n",
    "#XOR  implementation in Tensorflow with hidden layers being sigmoid to introduce Non-Linearity\n",
    "\n",
    "# Model class\n",
    "class MLP(Model):\n",
    "    # Set layers.\n",
    "    def __init__(self,n_hidden=2,n_out=1):\n",
    "        super(MLP, self).__init__()\n",
    "        # Fully-connected hidden layer.\n",
    "        self.fc1 = layers.Dense(n_hidden, activation=tf.nn.sigmoid,name='hidden')\n",
    "        # Output layer\n",
    "        self.out = layers.Dense(n_out,activation=tf.nn.sigmoid,name='out')\n",
    "\n",
    "    # Set forward pass.\n",
    "    def call(self, x):\n",
    "        x = self.fc1(x)\n",
    "        x = self.out(x)\n",
    "        return x\n",
    "\n",
    "    \n",
    "stamp = datetime.now().strftime(\"%Y%m%d-%H%M%S\")\n",
    "logdir = 'logs/func1/%s' % stamp\n",
    "writer = tf.summary.create_file_writer(logdir)\n",
    "\n",
    "\n",
    "    \n",
    "# define model\n",
    "model = MLP(n_hidden=2,n_out=1)\n",
    "# wrap the model with tf.function to create Graph execution for the model\n",
    "model_graph = tf.function(model)\n",
    "\n",
    "#Learning rate\n",
    "learning_rate = 0.01\n",
    "# Define optimizer\n",
    "optimizer = tf.compat.v1.train.GradientDescentOptimizer(learning_rate)\n",
    "\n",
    "#Define the Cross-entropy/Log-loss \n",
    "loss_fn = tf.keras.losses.BinaryCrossentropy(from_logits=False)\n",
    "# Define the XOR specific datapoints\n",
    "XOR_X = [[0,0],[0,1],[1,0],[1,1]]\n",
    "XOR_Y = [[0],[1],[1],[0]]\n",
    "# Convert the data to constant tensors\n",
    "x_ = tf.constant(np.array(XOR_X))\n",
    "y_  = tf.constant(np.array(XOR_Y))\n",
    "\n",
    "num_epochs = 1\n",
    "tf.summary.trace_on(graph=True, profiler=True)\n",
    "\n",
    "for i in range(num_epochs):\n",
    "    \n",
    "    with tf.GradientTape() as tape:\n",
    "        y_pred = model_graph(x_)\n",
    "        loss = loss_fn(y_,y_pred)\n",
    "        \n",
    "    # compute gradient\n",
    "    gradients = tape.gradient(loss, model.trainable_variables)\n",
    "    # update the parameters\n",
    "    optimizer.apply_gradients(zip(gradients, model.trainable_variables))\n",
    "    \n",
    "    if i % 10000 == 0:\n",
    "        print(f\"Epoch: {i}, loss: {loss.numpy()}\") \n",
    "        \n",
    "with writer.as_default():\n",
    "    tf.summary.trace_export(\n",
    "      name=\"my_func_trace\",\n",
    "      step=0,\n",
    "      profiler_outdir=logdir)\n",
    "\n",
    "print('Final Prediction', model_graph(x_).numpy())"
   ]
  },
  {
   "cell_type": "code",
   "execution_count": 6,
   "metadata": {},
   "outputs": [
    {
     "name": "stdout",
     "output_type": "stream",
     "text": [
      "The tensorboard extension is already loaded. To reload it, use:\n",
      "  %reload_ext tensorboard\n"
     ]
    },
    {
     "data": {
      "text/html": [
       "\n",
       "      <iframe id=\"tensorboard-frame-59d5ac858464346b\" width=\"100%\" height=\"800\" frameborder=\"0\">\n",
       "      </iframe>\n",
       "      <script>\n",
       "        (function() {\n",
       "          const frame = document.getElementById(\"tensorboard-frame-59d5ac858464346b\");\n",
       "          const url = new URL(\"/\", window.location);\n",
       "          const port = 6006;\n",
       "          if (port) {\n",
       "            url.port = port;\n",
       "          }\n",
       "          frame.src = url;\n",
       "        })();\n",
       "      </script>\n",
       "    "
      ],
      "text/plain": [
       "<IPython.core.display.HTML object>"
      ]
     },
     "metadata": {},
     "output_type": "display_data"
    }
   ],
   "source": [
    "%load_ext tensorboard\n",
    "import tensorboard\n",
    "%tensorboard --logdir logs/func1"
   ]
  },
  {
   "cell_type": "markdown",
   "metadata": {},
   "source": [
    "# Listing 2-16 . XOR implementation with linear activation functions in hidden layer"
   ]
  },
  {
   "cell_type": "code",
   "execution_count": 7,
   "metadata": {},
   "outputs": [
    {
     "name": "stdout",
     "output_type": "stream",
     "text": [
      "tensorflow version 2.9.1\n",
      "Epoch: 0, loss: 0.7000243663787842\n",
      "Epoch: 10000, loss: 0.6931632161140442\n",
      "Epoch: 20000, loss: 0.693149983882904\n",
      "Epoch: 30000, loss: 0.6931474804878235\n",
      "Epoch: 40000, loss: 0.6931470036506653\n",
      "Epoch: 50000, loss: 0.6931470632553101\n",
      "Epoch: 60000, loss: 0.6931469440460205\n",
      "Epoch: 70000, loss: 0.6931470036506653\n",
      "Epoch: 80000, loss: 0.6931470036506653\n",
      "Epoch: 90000, loss: 0.6931469440460205\n",
      "Final Prediction [[0.50000817]\n",
      " [0.49999997]\n",
      " [0.49999997]\n",
      " [0.49999183]]\n"
     ]
    }
   ],
   "source": [
    "import tensorflow as tf\n",
    "import numpy as np\n",
    "from tensorflow.keras import Model, layers\n",
    "print( 'tensorflow version',tf.__version__ )\n",
    "\n",
    "#XOR  implementation in Tensorflow with hidden layers being sigmoid to introduce Non-Linearity\n",
    "\n",
    "import tensorflow as tf\n",
    "\n",
    "# Define Model \n",
    "\n",
    "\n",
    "# Model class\n",
    "class MLP(Model):\n",
    "    # Set layers.\n",
    "    def __init__(self,n_hidden=2,n_out=1):\n",
    "        super(MLP, self).__init__()\n",
    "        # Fully-connected hidden layer.\n",
    "        self.fc1 = layers.Dense(n_hidden, activation='linear')\n",
    "        # Output layer\n",
    "        self.out = layers.Dense(n_out,activation=tf.nn.sigmoid)\n",
    "\n",
    "    # Set forward pass.\n",
    "    def call(self, x, is_training=False):\n",
    "        x = self.fc1(x)\n",
    "        x = self.out(x)\n",
    "        return x\n",
    "\n",
    "    \n",
    "# define model\n",
    "model = MLP(n_hidden=2,n_out=1)\n",
    "# wrap the model with tf.function to create Graph execution for the model\n",
    "model_graph = tf.function(model)\n",
    "\n",
    "#Learning rate\n",
    "learning_rate = 0.01\n",
    "# Define optimizer\n",
    "optimizer = tf.compat.v1.train.GradientDescentOptimizer(learning_rate)\n",
    "\n",
    "#Define the Cross-entropy/Log-loss \n",
    "loss_fn = tf.keras.losses.BinaryCrossentropy(from_logits=False)\n",
    "# Define the XOR specific datapoints\n",
    "XOR_X = [[0,0],[0,1],[1,0],[1,1]]\n",
    "XOR_Y = [[0],[1],[1],[0]]\n",
    "# Convert the data to constant tensors\n",
    "x_ = tf.constant(np.array(XOR_X))\n",
    "y_  = tf.constant(np.array(XOR_Y))\n",
    "\n",
    "num_epochs = 100000\n",
    "\n",
    "for i in range(num_epochs):\n",
    "    with tf.GradientTape() as tape:\n",
    "        y_pred = model_graph(x_)\n",
    "        loss = loss_fn(y_,y_pred)\n",
    "    # compute gradient\n",
    "    gradients = tape.gradient(loss, model.trainable_variables)\n",
    "    # update the parameters\n",
    "    optimizer.apply_gradients(zip(gradients, model.trainable_variables))\n",
    "    if i % 10000 == 0:\n",
    "        print(f\"Epoch: {i}, loss: {loss.numpy()}\") \n",
    "print('Final Prediction', model(x_).numpy())"
   ]
  },
  {
   "cell_type": "markdown",
   "metadata": {},
   "source": [
    "# Listing 2-17. Linear Regression implementation in TensorFlow"
   ]
  },
  {
   "cell_type": "code",
   "execution_count": 9,
   "metadata": {},
   "outputs": [
    {
     "name": "stdout",
     "output_type": "stream",
     "text": [
      "tensorflow version 2.9.1\n",
      "Epoch: 0, loss: 1.1912292962960103\n",
      "Epoch: 100, loss: 0.06553162133740813\n",
      "Epoch: 200, loss: 0.045865258680501945\n",
      "Epoch: 300, loss: 0.04464764651573694\n",
      "Epoch: 400, loss: 0.04415248599448223\n",
      "Epoch: 500, loss: 0.04386758238901734\n",
      "Epoch: 600, loss: 0.04369143911972347\n",
      "Epoch: 700, loss: 0.04357636116238922\n",
      "Epoch: 800, loss: 0.043497590679425026\n",
      "Epoch: 900, loss: 0.04344162545185315\n",
      "Final Prediction..\n",
      "\n",
      "MSE in training: 0.043401084869746635\n"
     ]
    }
   ],
   "source": [
    "# Importing TensorFlow, Numpy and the Boston Housing price dataset\n",
    "\n",
    "import tensorflow as tf\n",
    "print('tensorflow version',tf.__version__)\n",
    "import numpy as np\n",
    "import sklearn\n",
    "from sklearn.datasets import load_boston\n",
    "\n",
    "# Function to load the Boston data set\n",
    "def read_infile():\n",
    "    data = load_boston()\n",
    "    features = np.array(data.data)\n",
    "    target = np.array(data.target)\n",
    "    return features,target\n",
    "\n",
    "# Normalize the features by Z scaling i.e. subract form each feature value its mean and then divide by its \n",
    "# standard deviation. Accelerates Gradient Descent.\n",
    "\n",
    "def feature_normalize(data):\n",
    "    mu = np.mean(data,axis=0)\n",
    "    std = np.std(data,axis=0)\n",
    "    return (data - mu)/std\n",
    "\n",
    "\n",
    "# Execute the functions to read and normalize  the data\n",
    "\n",
    "features,target = read_infile()\n",
    "z_features = feature_normalize(features)\n",
    "num_features = z_features.shape[1]\n",
    "num_recs = z_features.shape[0]\n",
    "\n",
    "X = tf.constant( z_features , dtype=tf.float32 )\n",
    "Y = tf.constant( target , dtype=tf.float32 ) \n",
    "\n",
    "# Model class\n",
    "class MLP(Model):\n",
    "    # Set layers.\n",
    "    def __init__(self,n_out=1):\n",
    "        super(MLP, self).__init__()\n",
    "        # Fully-connected hidden layer.\n",
    "        self.out = layers.Dense(n_out,activation='linear')\n",
    "\n",
    "    # Set forward pass.\n",
    "    def call(self, x):\n",
    "        x = self.out(x)\n",
    "        return x\n",
    "\n",
    "    \n",
    "# define model\n",
    "model = MLP(n_out=1)\n",
    "#print(model.summary())\n",
    "# wrap the model with tf.function to create Graph execution for the model\n",
    "model_graph = tf.function(model)\n",
    "\n",
    "#Learning rate\n",
    "learning_rate = 0.01\n",
    "# Define optimizer\n",
    "optimizer = tf.compat.v1.train.GradientDescentOptimizer(learning_rate)\n",
    "num_epochs = 1000\n",
    "cost_trace = []\n",
    "loss_fn = tf.keras.losses.MeanSquaredError() \n",
    "# Execute the gradient descent learning\n",
    "\n",
    "for i in range(num_epochs):\n",
    "    with tf.GradientTape() as tape:\n",
    "        y_pred = model_graph(X)\n",
    "        loss = loss_fn(Y,y_pred)\n",
    "    # compute gradient\n",
    "    gradients = tape.gradient(loss, model.trainable_variables)\n",
    "    # update the parameters\n",
    "    optimizer.apply_gradients(zip(gradients, model.trainable_variables))\n",
    "    cost_trace.append(loss.numpy()/num_recs)\n",
    "    if i % 100 == 0:\n",
    "        print(f\"Epoch: {i}, loss: {loss.numpy()/num_recs}\") \n",
    "print(f'Final Prediction..\\n')\n",
    "#print(model(X,training=False).numpy())\n",
    "print('MSE in training:',cost_trace[-1])"
   ]
  },
  {
   "cell_type": "markdown",
   "metadata": {},
   "source": [
    "# Listing 2-17a. Linear Regression Cost plot over Epochs or iterations "
   ]
  },
  {
   "cell_type": "code",
   "execution_count": 10,
   "metadata": {},
   "outputs": [
    {
     "data": {
      "text/plain": [
       "Text(0, 0.5, 'MSE')"
      ]
     },
     "execution_count": 10,
     "metadata": {},
     "output_type": "execute_result"
    },
    {
     "data": {
      "image/png": "[encoded data removed]",
      "text/plain": [
       "<Figure size 640x480 with 1 Axes>"
      ]
     },
     "metadata": {},
     "output_type": "display_data"
    }
   ],
   "source": [
    "import matplotlib.pyplot as plt\n",
    "%matplotlib inline\n",
    "plt.plot(cost_trace)\n",
    "plt.xlabel('# Epoch')\n",
    "plt.ylabel('MSE')"
   ]
  },
  {
   "cell_type": "markdown",
   "metadata": {},
   "source": [
    "# Listing 2-17b. Linear Regression Actual House Price vs Predicted House Price"
   ]
  },
  {
   "cell_type": "code",
   "execution_count": 11,
   "metadata": {},
   "outputs": [
    {
     "data": {
      "text/plain": [
       "Text(0, 0.5, 'Predicted House price')"
      ]
     },
     "execution_count": 11,
     "metadata": {},
     "output_type": "execute_result"
    },
    {
     "data": {
      "image/png": "[encoded data removed]",
      "text/plain": [
       "<Figure size 640x480 with 1 Axes>"
      ]
     },
     "metadata": {},
     "output_type": "display_data"
    }
   ],
   "source": [
    "# Plot the Predicted house Prices vs the Actual House Prices\n",
    "\n",
    "fig, ax = plt.subplots()\n",
    "plt.scatter(target,y_pred.numpy())\n",
    "ax.set_xlabel('Actual House price')\n",
    "ax.set_ylabel('Predicted House price') "
   ]
  },
  {
   "cell_type": "markdown",
   "metadata": {},
   "source": [
    "# Listing 2-18. Multiclass Classification with Softmax function using Full Batch Gradient Descent"
   ]
  },
  {
   "cell_type": "code",
   "execution_count": 12,
   "metadata": {},
   "outputs": [
    {
     "name": "stdout",
     "output_type": "stream",
     "text": [
      "tensorflow version 2.9.1\n",
      "Epoch 100 : loss: 0.1338 ,accuracy:0.8789\n",
      "\n",
      "Epoch 200 : loss: 0.0873 ,accuracy:0.9148\n",
      "\n",
      "Epoch 300 : loss: 0.2326 ,accuracy:0.8364\n",
      "\n",
      "Epoch 400 : loss: 0.1002 ,accuracy:0.9087\n",
      "\n",
      "Epoch 500 : loss: 0.1162 ,accuracy:0.906\n",
      "\n",
      "Epoch 600 : loss: 0.0862 ,accuracy:0.92\n",
      "\n",
      "Epoch 700 : loss: 0.135 ,accuracy:0.8753\n",
      "\n",
      "Epoch 800 : loss: 0.1392 ,accuracy:0.8938\n",
      "\n",
      "Epoch 900 : loss: 0.6744 ,accuracy:0.739\n",
      "\n",
      "Epoch 1000 : loss: 0.2276 ,accuracy:0.8221\n",
      "\n",
      "Results on Test Dataset: loss: 0.0156 accuracy: 0.7982\n"
     ]
    }
   ],
   "source": [
    "import tensorflow as tf\n",
    "print('tensorflow version', tf.__version__)\n",
    "import numpy as np\n",
    "from sklearn import datasets\n",
    "#from tensorflow.examples.tutorials.mnist import input_data\n",
    "\n",
    "\n",
    "\n",
    "# Function to Read the MNIST dataset along with the labels\n",
    "\n",
    "def read_infile():\n",
    "    (train_X, train_Y), (test_X, test_Y) = tf.keras.datasets.mnist.load_data()\n",
    "    train_X = train_X.reshape(-1,28*28)\n",
    "    test_X = test_X.reshape(-1,28*28)\n",
    "    return train_X, train_Y,test_X, test_Y\n",
    "\n",
    "# Define the weights and biases for the neural network\n",
    "class MLP(Model):\n",
    "    # Set layers.\n",
    "    def __init__(self,n_classes=10):\n",
    "        super(MLP, self).__init__()\n",
    "        # Fully-connected hidden layer.\n",
    "        self.out = layers.Dense(n_classes,activation='linear')\n",
    "\n",
    "    # Set forward pass.\n",
    "    def call(self, x):\n",
    "        x = self.out(x)\n",
    "        return x\n",
    "\n",
    "\n",
    "            \n",
    "# Define the Categorical Cross Entropy that does a softmax on the final layer output logits\n",
    "loss_fn = tf.keras.losses.SparseCategoricalCrossentropy(from_logits=True)\n",
    "\n",
    "#Learning rate\n",
    "learning_rate = 0.01\n",
    "# Define optimizer\n",
    "optimizer = tf.compat.v1.train.GradientDescentOptimizer(learning_rate)  \n",
    "\n",
    "\n",
    "X_train, y_train, X_test, y_test = read_infile()\n",
    "num_train_recs, num_test_recs = X_train.shape[0], X_test.shape[0]\n",
    "# build the model\n",
    "model = MLP(n_classes=max(y_train) +1)\n",
    "model_graph = tf.function(model)\n",
    "\n",
    "X_train = tf.constant(X_train, dtype=tf.float32 )\n",
    "X_test = tf.constant(X_test, dtype=tf.float32 )\n",
    "y_train = tf.constant(y_train)\n",
    "y_test = tf.constant(y_test)\n",
    "              \n",
    "epochs = 1000\n",
    "loss_trace = []\n",
    "accuracy_trace = []\n",
    "\n",
    "\n",
    "for i in range(epochs):\n",
    "    with tf.GradientTape() as tape:\n",
    "        y_pred = model_graph(X_train)\n",
    "        loss = loss_fn(y_train,y_pred)\n",
    "        #print(loss)\n",
    "    # compute gradient\n",
    "    gradients = tape.gradient(loss, model.trainable_variables)\n",
    "    # update the parameters\n",
    "    optimizer.apply_gradients(zip(gradients, model.trainable_variables))\n",
    "              \n",
    "    accuracy_ = np.mean(y_train.numpy() == np.argmax(y_pred.numpy(),axis=1))\n",
    "    loss_trace.append(loss.numpy()/num_train_recs)\n",
    "    accuracy_trace.append(accuracy_)\n",
    "    if (((i+1) >= 100) and ((i+1) % 100 == 0 )) :\n",
    "        loss_ = np.round((loss.numpy()/num_recs),4)\n",
    "        print(f\"Epoch {i+1} : loss: {loss_} ,accuracy:{np.round(accuracy_,4)}\\n\")\n",
    "                            \n",
    "#print('Final training result:','loss:',loss.numpy(),'accuracy:',accuracy_)    \n",
    "y_pred_test = model_graph(X_test)\n",
    "loss_test = loss_fn(y_test,y_pred_test).numpy()/num_test_recs\n",
    "accuracy_test = np.mean(y_test.numpy() == np.argmax(y_pred_test.numpy(),axis=1))\n",
    "print('Results on Test Dataset:','loss:',np.round(loss_test,4),'accuracy:',np.round(accuracy_test,4))    "
   ]
  },
  {
   "cell_type": "markdown",
   "metadata": {},
   "source": [
    "# Listing 2-18a. Display the Actual digits vs the Predicted digits along with the images of the actual digits "
   ]
  },
  {
   "cell_type": "code",
   "execution_count": 13,
   "metadata": {},
   "outputs": [
    {
     "name": "stdout",
     "output_type": "stream",
     "text": [
      "Actual digits:  [7 2 1 0 4 1 4 9 5 9]\n",
      "Predicted digits: [7 2 1 0 4 1 4 9 6 9]\n",
      "Actual images of the digits follow:\n"
     ]
    },
    {
     "data": {
      "image/png": "[encoded data removed]",
      "text/plain": [
       "<Figure size 1000x200 with 10 Axes>"
      ]
     },
     "metadata": {},
     "output_type": "display_data"
    }
   ],
   "source": [
    "import matplotlib.pyplot as plt\n",
    "%matplotlib inline\n",
    "f, a = plt.subplots(1, 10, figsize=(10, 2))\n",
    "print('Actual digits: ', y_test[0:10].numpy())\n",
    "print('Predicted digits:',np.argmax(y_pred_test[0:10],axis=1))\n",
    "print('Actual images of the digits follow:')\n",
    "for i in range(10):\n",
    "        a[i].imshow(np.reshape(X_test[i],(28, 28)))"
   ]
  },
  {
   "cell_type": "markdown",
   "metadata": {},
   "source": [
    "# Listing 2-19. Multiclass Classification with Softmax function using Stochastic Gradient Descent"
   ]
  },
  {
   "cell_type": "code",
   "execution_count": 14,
   "metadata": {},
   "outputs": [
    {
     "name": "stdout",
     "output_type": "stream",
     "text": [
      "tensorflow version 2.9.1\n",
      "60\n",
      "Epoch 100 : loss: 73.219 ,accuracy:0.8994\n",
      "\n",
      "Epoch 200 : loss: 87.6804 ,accuracy:0.8932\n",
      "\n",
      "Epoch 300 : loss: 97.9668 ,accuracy:0.8856\n",
      "\n",
      "Epoch 400 : loss: 68.674 ,accuracy:0.9045\n",
      "\n",
      "Epoch 500 : loss: 84.322 ,accuracy:0.8945\n",
      "\n",
      "Epoch 600 : loss: 69.5979 ,accuracy:0.8994\n",
      "\n",
      "Epoch 700 : loss: 87.7039 ,accuracy:0.8926\n",
      "\n",
      "Epoch 800 : loss: 94.4417 ,accuracy:0.8851\n",
      "\n",
      "Epoch 900 : loss: 55.3862 ,accuracy:0.9114\n",
      "\n",
      "Epoch 1000 : loss: 74.854 ,accuracy:0.8915\n",
      "\n",
      "Results on Test Dataset: loss: 63.0367 accuracy: 0.9129\n"
     ]
    }
   ],
   "source": [
    "import tensorflow as tf\n",
    "print('tensorflow version', tf.__version__)\n",
    "import numpy as np\n",
    "from sklearn import datasets\n",
    "\n",
    "\n",
    "# Function to Read the MNIST dataset along with the labels\n",
    "\n",
    "def read_infile():\n",
    "    (train_X, train_Y), (test_X, test_Y) = tf.keras.datasets.mnist.load_data()\n",
    "    train_X = train_X.reshape(-1,28*28)\n",
    "    test_X = test_X.reshape(-1,28*28)\n",
    "    return train_X, train_Y,test_X, test_Y\n",
    "\n",
    "# Define the weights and biases for the neural network\n",
    "\n",
    "def build_model(input_dim,n_classes):\n",
    "    # Create Tensorflow Model\n",
    "    model = tf.keras.models.Sequential()\n",
    "    model.add(tf.keras.Input(shape=(input_dim,)))\n",
    "    model.add(tf.keras.layers.Dense(n_classes))\n",
    "    return model\n",
    "            \n",
    "# Define the Categorical Cross Entropy that does a softmax on the final layer output logits\n",
    "loss_fn = tf.keras.losses.SparseCategoricalCrossentropy(from_logits=True)\n",
    "\n",
    "#Learning rate\n",
    "learning_rate = 0.01\n",
    "# Define optimizer\n",
    "optimizer = tf.keras.optimizers.SGD(learning_rate)   \n",
    "\n",
    "\n",
    "X_train, y_train, X_test, y_test = read_infile()\n",
    "# build the model\n",
    "model = build_model(X_train.shape[1],max(y_train) +1)\n",
    "\n",
    "#X_train = tf.constant(X_train, dtype=tf.float32 )\n",
    "X_test = tf.constant(X_test, dtype=tf.float32 )\n",
    "#y_train = tf.constant(y_train)\n",
    "y_test = tf.constant(y_test)\n",
    "              \n",
    "epochs = 1000\n",
    "loss_trace = []\n",
    "accuracy_trace = []\n",
    "batch_size = 1000\n",
    "\n",
    "num_train_recs,num_test_recs = X_train.shape[0], X_test.shape[0]\n",
    "num_batches = num_train_recs // batch_size\n",
    "order_ = np.arange(num_train_recs)\n",
    "\n",
    "\n",
    "print(num_batches)\n",
    "for i in range(epochs):\n",
    "    loss, accuracy = 0,0\n",
    "    np.random.shuffle(order_)\n",
    "    X_train,y_train = X_train[order_], y_train[order_]\n",
    "    for j in range(num_batches):\n",
    "        X_train_batch = tf.constant(X_train[j*batch_size:(j+1)*batch_size],dtype=tf.float32)\n",
    "        y_train_batch = tf.constant(y_train[j*batch_size:(j+1)*batch_size])  \n",
    "        #print(X_train_batch,y_train_batch)\n",
    "        with tf.GradientTape() as tape:\n",
    "            y_pred_batch = model(X_train_batch,training=True)\n",
    "            loss_ = loss_fn(y_train_batch,y_pred_batch)\n",
    "\n",
    "        # compute gradient\n",
    "        gradients = tape.gradient(loss_, model.trainable_variables)\n",
    "        # update the parameters\n",
    "        optimizer.apply_gradients(zip(gradients, model.trainable_variables))\n",
    "\n",
    "        accuracy += np.sum(y_train_batch.numpy() == np.argmax(y_pred_batch.numpy(),axis=1))\n",
    "        loss += batch_size*loss_.numpy()\n",
    "    loss /= num_train_recs\n",
    "    accuracy /= num_train_recs\n",
    "    loss_trace.append(loss)\n",
    "    accuracy_trace.append(accuracy)\n",
    "    if (((i+1) >= 100) and ((i+1) % 100 == 0 )) :\n",
    "        print(f\"Epoch {i+1} : loss: {np.round(loss,4)} ,accuracy:{np.round(accuracy,4)}\\n\")\n",
    "                            \n",
    "#print('Final training result:','loss:',loss.numpy(),'accuracy:',accuracy_)    \n",
    "y_pred_test = model(X_test,training=False)\n",
    "loss_test = loss_fn(y_test,y_pred_test).numpy()\n",
    "accuracy_test = np.mean(y_test.numpy() == np.argmax(y_pred_test.numpy(),axis=1))\n",
    "print('Results on Test Dataset:','loss:',np.round(loss_test,4),'accuracy:',np.round(accuracy_test,4))  "
   ]
  },
  {
   "cell_type": "markdown",
   "metadata": {},
   "source": [
    "# Listing 2-19a. Actual Digit vs Predicted digits for Softmax classification through Stochastic Gradient descent"
   ]
  },
  {
   "cell_type": "code",
   "execution_count": 15,
   "metadata": {},
   "outputs": [
    {
     "name": "stdout",
     "output_type": "stream",
     "text": [
      "Actual digits:  [7 2 1 0 4 1 4 9 5 9]\n",
      "Predicted digits: [7 2 1 0 4 1 4 9 6 9]\n",
      "Actual images of the digits follow:\n"
     ]
    },
    {
     "data": {
      "image/png": "[encoded data removed]",
      "text/plain": [
       "<Figure size 1000x200 with 10 Axes>"
      ]
     },
     "metadata": {},
     "output_type": "display_data"
    }
   ],
   "source": [
    "import matplotlib.pyplot as plt\n",
    "%matplotlib inline\n",
    "f, a = plt.subplots(1, 10, figsize=(10, 2))\n",
    "print('Actual digits: ', y_test[0:10].numpy())\n",
    "print('Predicted digits:',np.argmax(y_pred_test[0:10],axis=1))\n",
    "print('Actual images of the digits follow:')\n",
    "for i in range(10):\n",
    "        a[i].imshow(np.reshape(X_test[i],(28, 28)))"
   ]
  },
  {
   "cell_type": "code",
   "execution_count": null,
   "metadata": {},
   "outputs": [],
   "source": []
  }
 ],
 "metadata": {
  "kernelspec": {
   "display_name": "Python 3 (ipykernel)",
   "language": "python",
   "name": "python3"
  },
  "language_info": {
   "codemirror_mode": {
    "name": "ipython",
    "version": 3
   },
   "file_extension": ".py",
   "mimetype": "text/x-python",
   "name": "python",
   "nbconvert_exporter": "python",
   "pygments_lexer": "ipython3",
   "version": "3.10.6"
  }
 },
 "nbformat": 4,
 "nbformat_minor": 2
}
